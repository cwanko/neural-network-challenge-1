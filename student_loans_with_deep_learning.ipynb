{
  "cells": [
    {
      "cell_type": "markdown",
      "metadata": {
        "id": "T7ZNhGcW6q6r"
      },
      "source": [
        "# Student Loan Risk with Deep Learning"
      ]
    },
    {
      "cell_type": "code",
      "execution_count": 1,
      "metadata": {
        "id": "0otrXpJc6q6u"
      },
      "outputs": [
        {
          "name": "stderr",
          "output_type": "stream",
          "text": [
            "2024-09-17 17:31:21.185166: I tensorflow/core/platform/cpu_feature_guard.cc:193] This TensorFlow binary is optimized with oneAPI Deep Neural Network Library (oneDNN) to use the following CPU instructions in performance-critical operations:  SSE4.1 SSE4.2\n",
            "To enable them in other operations, rebuild TensorFlow with the appropriate compiler flags.\n"
          ]
        }
      ],
      "source": [
        "# Imports\n",
        "import pandas as pd\n",
        "import tensorflow as tf\n",
        "from tensorflow.keras.layers import Dense\n",
        "from tensorflow.keras.models import Sequential\n",
        "from sklearn.model_selection import train_test_split\n",
        "from sklearn.preprocessing import StandardScaler\n",
        "from sklearn.metrics import classification_report\n",
        "from pathlib import Path"
      ]
    },
    {
      "cell_type": "markdown",
      "metadata": {
        "id": "OpV4Y-3Z6q6w"
      },
      "source": [
        "---\n",
        "\n",
        "## Prepare the data to be used on a neural network model"
      ]
    },
    {
      "cell_type": "markdown",
      "metadata": {
        "id": "TUuSzp2l6q6w"
      },
      "source": [
        "### Step 1: Read the `student-loans.csv` file into a Pandas DataFrame. Review the DataFrame, looking for columns that could eventually define your features and target variables.   "
      ]
    },
    {
      "cell_type": "code",
      "execution_count": 2,
      "metadata": {
        "colab": {
          "base_uri": "https://localhost:8080/",
          "height": 226
        },
        "id": "G65km1KD6q6x",
        "outputId": "1f15742a-118e-4a0f-c1fc-6c96f43e2bcf"
      },
      "outputs": [
        {
          "data": {
            "text/html": [
              "<div>\n",
              "<style scoped>\n",
              "    .dataframe tbody tr th:only-of-type {\n",
              "        vertical-align: middle;\n",
              "    }\n",
              "\n",
              "    .dataframe tbody tr th {\n",
              "        vertical-align: top;\n",
              "    }\n",
              "\n",
              "    .dataframe thead th {\n",
              "        text-align: right;\n",
              "    }\n",
              "</style>\n",
              "<table border=\"1\" class=\"dataframe\">\n",
              "  <thead>\n",
              "    <tr style=\"text-align: right;\">\n",
              "      <th></th>\n",
              "      <th>payment_history</th>\n",
              "      <th>location_parameter</th>\n",
              "      <th>stem_degree_score</th>\n",
              "      <th>gpa_ranking</th>\n",
              "      <th>alumni_success</th>\n",
              "      <th>study_major_code</th>\n",
              "      <th>time_to_completion</th>\n",
              "      <th>finance_workshop_score</th>\n",
              "      <th>cohort_ranking</th>\n",
              "      <th>total_loan_score</th>\n",
              "      <th>financial_aid_score</th>\n",
              "      <th>credit_ranking</th>\n",
              "    </tr>\n",
              "  </thead>\n",
              "  <tbody>\n",
              "    <tr>\n",
              "      <th>0</th>\n",
              "      <td>7.4</td>\n",
              "      <td>0.70</td>\n",
              "      <td>0.00</td>\n",
              "      <td>1.9</td>\n",
              "      <td>0.076</td>\n",
              "      <td>11.0</td>\n",
              "      <td>34.0</td>\n",
              "      <td>0.9978</td>\n",
              "      <td>3.51</td>\n",
              "      <td>0.56</td>\n",
              "      <td>9.4</td>\n",
              "      <td>0</td>\n",
              "    </tr>\n",
              "    <tr>\n",
              "      <th>1</th>\n",
              "      <td>7.8</td>\n",
              "      <td>0.88</td>\n",
              "      <td>0.00</td>\n",
              "      <td>2.6</td>\n",
              "      <td>0.098</td>\n",
              "      <td>25.0</td>\n",
              "      <td>67.0</td>\n",
              "      <td>0.9968</td>\n",
              "      <td>3.20</td>\n",
              "      <td>0.68</td>\n",
              "      <td>9.8</td>\n",
              "      <td>0</td>\n",
              "    </tr>\n",
              "    <tr>\n",
              "      <th>2</th>\n",
              "      <td>7.8</td>\n",
              "      <td>0.76</td>\n",
              "      <td>0.04</td>\n",
              "      <td>2.3</td>\n",
              "      <td>0.092</td>\n",
              "      <td>15.0</td>\n",
              "      <td>54.0</td>\n",
              "      <td>0.9970</td>\n",
              "      <td>3.26</td>\n",
              "      <td>0.65</td>\n",
              "      <td>9.8</td>\n",
              "      <td>0</td>\n",
              "    </tr>\n",
              "    <tr>\n",
              "      <th>3</th>\n",
              "      <td>11.2</td>\n",
              "      <td>0.28</td>\n",
              "      <td>0.56</td>\n",
              "      <td>1.9</td>\n",
              "      <td>0.075</td>\n",
              "      <td>17.0</td>\n",
              "      <td>60.0</td>\n",
              "      <td>0.9980</td>\n",
              "      <td>3.16</td>\n",
              "      <td>0.58</td>\n",
              "      <td>9.8</td>\n",
              "      <td>1</td>\n",
              "    </tr>\n",
              "    <tr>\n",
              "      <th>4</th>\n",
              "      <td>7.4</td>\n",
              "      <td>0.70</td>\n",
              "      <td>0.00</td>\n",
              "      <td>1.9</td>\n",
              "      <td>0.076</td>\n",
              "      <td>11.0</td>\n",
              "      <td>34.0</td>\n",
              "      <td>0.9978</td>\n",
              "      <td>3.51</td>\n",
              "      <td>0.56</td>\n",
              "      <td>9.4</td>\n",
              "      <td>0</td>\n",
              "    </tr>\n",
              "  </tbody>\n",
              "</table>\n",
              "</div>"
            ],
            "text/plain": [
              "   payment_history  location_parameter  stem_degree_score  gpa_ranking  \\\n",
              "0              7.4                0.70               0.00          1.9   \n",
              "1              7.8                0.88               0.00          2.6   \n",
              "2              7.8                0.76               0.04          2.3   \n",
              "3             11.2                0.28               0.56          1.9   \n",
              "4              7.4                0.70               0.00          1.9   \n",
              "\n",
              "   alumni_success  study_major_code  time_to_completion  \\\n",
              "0           0.076              11.0                34.0   \n",
              "1           0.098              25.0                67.0   \n",
              "2           0.092              15.0                54.0   \n",
              "3           0.075              17.0                60.0   \n",
              "4           0.076              11.0                34.0   \n",
              "\n",
              "   finance_workshop_score  cohort_ranking  total_loan_score  \\\n",
              "0                  0.9978            3.51              0.56   \n",
              "1                  0.9968            3.20              0.68   \n",
              "2                  0.9970            3.26              0.65   \n",
              "3                  0.9980            3.16              0.58   \n",
              "4                  0.9978            3.51              0.56   \n",
              "\n",
              "   financial_aid_score  credit_ranking  \n",
              "0                  9.4               0  \n",
              "1                  9.8               0  \n",
              "2                  9.8               0  \n",
              "3                  9.8               1  \n",
              "4                  9.4               0  "
            ]
          },
          "execution_count": 2,
          "metadata": {},
          "output_type": "execute_result"
        }
      ],
      "source": [
        "# Read the csv into a Pandas DataFrame\n",
        "file_path = \"https://static.bc-edx.com/ai/ail-v-1-0/m18/lms/datasets/student-loans.csv\"\n",
        "loans_df = pd.read_csv(file_path)\n",
        "\n",
        "# Review the DataFrame\n",
        "loans_df.head()"
      ]
    },
    {
      "cell_type": "code",
      "execution_count": 3,
      "metadata": {
        "colab": {
          "base_uri": "https://localhost:8080/",
          "height": 460
        },
        "id": "K8ZYB8wx6q6x",
        "outputId": "ac2c308a-2dc2-4a6d-ba6f-d5bcaa510e6f"
      },
      "outputs": [
        {
          "data": {
            "text/plain": [
              "payment_history           float64\n",
              "location_parameter        float64\n",
              "stem_degree_score         float64\n",
              "gpa_ranking               float64\n",
              "alumni_success            float64\n",
              "study_major_code          float64\n",
              "time_to_completion        float64\n",
              "finance_workshop_score    float64\n",
              "cohort_ranking            float64\n",
              "total_loan_score          float64\n",
              "financial_aid_score       float64\n",
              "credit_ranking              int64\n",
              "dtype: object"
            ]
          },
          "execution_count": 3,
          "metadata": {},
          "output_type": "execute_result"
        }
      ],
      "source": [
        "# Review the data types associated with the columns\n",
        "loans_df.dtypes"
      ]
    },
    {
      "cell_type": "code",
      "execution_count": 4,
      "metadata": {
        "colab": {
          "base_uri": "https://localhost:8080/",
          "height": 178
        },
        "id": "9P8aX-dW75JO",
        "outputId": "3658f2a0-7968-421c-9363-9a7221a6ebb0"
      },
      "outputs": [
        {
          "data": {
            "text/plain": [
              "credit_ranking\n",
              "1    855\n",
              "0    744\n",
              "Name: count, dtype: int64"
            ]
          },
          "execution_count": 4,
          "metadata": {},
          "output_type": "execute_result"
        }
      ],
      "source": [
        "# Check the credit_ranking value counts\n",
        "loans_df[\"credit_ranking\"].value_counts()"
      ]
    },
    {
      "cell_type": "markdown",
      "metadata": {
        "id": "R6vbZeDH6q6y"
      },
      "source": [
        "### Step 2: Using the preprocessed data, create the features (`X`) and target (`y`) datasets. The target dataset should be defined by the preprocessed DataFrame column “credit_ranking”. The remaining columns should define the features dataset."
      ]
    },
    {
      "cell_type": "code",
      "execution_count": 5,
      "metadata": {
        "colab": {
          "base_uri": "https://localhost:8080/",
          "height": 241
        },
        "id": "Q5eVAP5M6q6y",
        "outputId": "5e2454ac-dde6-4ae3-b74f-d136c1544e15"
      },
      "outputs": [
        {
          "data": {
            "text/plain": [
              "1551    0\n",
              "374     1\n",
              "1240    0\n",
              "673     0\n",
              "959     0\n",
              "Name: credit_ranking, dtype: int64"
            ]
          },
          "metadata": {},
          "output_type": "display_data"
        }
      ],
      "source": [
        "# Define the target set y using the credit_ranking column\n",
        "y = loans_df[\"credit_ranking\"]\n",
        "\n",
        "# Display a sample of y\n",
        "display(y.sample(5))"
      ]
    },
    {
      "cell_type": "code",
      "execution_count": 6,
      "metadata": {
        "colab": {
          "base_uri": "https://localhost:8080/",
          "height": 226
        },
        "id": "IIkrD2Sn6q6z",
        "outputId": "dfa25e92-579d-47b3-8e45-7edb6c5d44db"
      },
      "outputs": [
        {
          "data": {
            "text/html": [
              "<div>\n",
              "<style scoped>\n",
              "    .dataframe tbody tr th:only-of-type {\n",
              "        vertical-align: middle;\n",
              "    }\n",
              "\n",
              "    .dataframe tbody tr th {\n",
              "        vertical-align: top;\n",
              "    }\n",
              "\n",
              "    .dataframe thead th {\n",
              "        text-align: right;\n",
              "    }\n",
              "</style>\n",
              "<table border=\"1\" class=\"dataframe\">\n",
              "  <thead>\n",
              "    <tr style=\"text-align: right;\">\n",
              "      <th></th>\n",
              "      <th>payment_history</th>\n",
              "      <th>location_parameter</th>\n",
              "      <th>stem_degree_score</th>\n",
              "      <th>gpa_ranking</th>\n",
              "      <th>alumni_success</th>\n",
              "      <th>study_major_code</th>\n",
              "      <th>time_to_completion</th>\n",
              "      <th>finance_workshop_score</th>\n",
              "      <th>cohort_ranking</th>\n",
              "      <th>total_loan_score</th>\n",
              "      <th>financial_aid_score</th>\n",
              "    </tr>\n",
              "  </thead>\n",
              "  <tbody>\n",
              "    <tr>\n",
              "      <th>0</th>\n",
              "      <td>7.4</td>\n",
              "      <td>0.70</td>\n",
              "      <td>0.00</td>\n",
              "      <td>1.9</td>\n",
              "      <td>0.076</td>\n",
              "      <td>11.0</td>\n",
              "      <td>34.0</td>\n",
              "      <td>0.9978</td>\n",
              "      <td>3.51</td>\n",
              "      <td>0.56</td>\n",
              "      <td>9.4</td>\n",
              "    </tr>\n",
              "    <tr>\n",
              "      <th>1</th>\n",
              "      <td>7.8</td>\n",
              "      <td>0.88</td>\n",
              "      <td>0.00</td>\n",
              "      <td>2.6</td>\n",
              "      <td>0.098</td>\n",
              "      <td>25.0</td>\n",
              "      <td>67.0</td>\n",
              "      <td>0.9968</td>\n",
              "      <td>3.20</td>\n",
              "      <td>0.68</td>\n",
              "      <td>9.8</td>\n",
              "    </tr>\n",
              "    <tr>\n",
              "      <th>2</th>\n",
              "      <td>7.8</td>\n",
              "      <td>0.76</td>\n",
              "      <td>0.04</td>\n",
              "      <td>2.3</td>\n",
              "      <td>0.092</td>\n",
              "      <td>15.0</td>\n",
              "      <td>54.0</td>\n",
              "      <td>0.9970</td>\n",
              "      <td>3.26</td>\n",
              "      <td>0.65</td>\n",
              "      <td>9.8</td>\n",
              "    </tr>\n",
              "    <tr>\n",
              "      <th>3</th>\n",
              "      <td>11.2</td>\n",
              "      <td>0.28</td>\n",
              "      <td>0.56</td>\n",
              "      <td>1.9</td>\n",
              "      <td>0.075</td>\n",
              "      <td>17.0</td>\n",
              "      <td>60.0</td>\n",
              "      <td>0.9980</td>\n",
              "      <td>3.16</td>\n",
              "      <td>0.58</td>\n",
              "      <td>9.8</td>\n",
              "    </tr>\n",
              "    <tr>\n",
              "      <th>4</th>\n",
              "      <td>7.4</td>\n",
              "      <td>0.70</td>\n",
              "      <td>0.00</td>\n",
              "      <td>1.9</td>\n",
              "      <td>0.076</td>\n",
              "      <td>11.0</td>\n",
              "      <td>34.0</td>\n",
              "      <td>0.9978</td>\n",
              "      <td>3.51</td>\n",
              "      <td>0.56</td>\n",
              "      <td>9.4</td>\n",
              "    </tr>\n",
              "  </tbody>\n",
              "</table>\n",
              "</div>"
            ],
            "text/plain": [
              "   payment_history  location_parameter  stem_degree_score  gpa_ranking  \\\n",
              "0              7.4                0.70               0.00          1.9   \n",
              "1              7.8                0.88               0.00          2.6   \n",
              "2              7.8                0.76               0.04          2.3   \n",
              "3             11.2                0.28               0.56          1.9   \n",
              "4              7.4                0.70               0.00          1.9   \n",
              "\n",
              "   alumni_success  study_major_code  time_to_completion  \\\n",
              "0           0.076              11.0                34.0   \n",
              "1           0.098              25.0                67.0   \n",
              "2           0.092              15.0                54.0   \n",
              "3           0.075              17.0                60.0   \n",
              "4           0.076              11.0                34.0   \n",
              "\n",
              "   finance_workshop_score  cohort_ranking  total_loan_score  \\\n",
              "0                  0.9978            3.51              0.56   \n",
              "1                  0.9968            3.20              0.68   \n",
              "2                  0.9970            3.26              0.65   \n",
              "3                  0.9980            3.16              0.58   \n",
              "4                  0.9978            3.51              0.56   \n",
              "\n",
              "   financial_aid_score  \n",
              "0                  9.4  \n",
              "1                  9.8  \n",
              "2                  9.8  \n",
              "3                  9.8  \n",
              "4                  9.4  "
            ]
          },
          "metadata": {},
          "output_type": "display_data"
        }
      ],
      "source": [
        "# Define features set X by selecting all columns but credit_ranking\n",
        "\n",
        "X = loans_df.drop(columns=[\"credit_ranking\"])\n",
        "\n",
        "# Review the features DataFrame\n",
        "display(X.head())"
      ]
    },
    {
      "cell_type": "markdown",
      "metadata": {
        "id": "QmM9c-tj6q6z"
      },
      "source": [
        "### Step 3: Split the features and target sets into training and testing datasets.\n"
      ]
    },
    {
      "cell_type": "code",
      "execution_count": 7,
      "metadata": {
        "id": "OD7xwU_96q6z"
      },
      "outputs": [
        {
          "name": "stdout",
          "output_type": "stream",
          "text": [
            "X_train shape: (1279, 11)\n",
            "X_test shape: (320, 11)\n",
            "y_train shape: (1279,)\n",
            "y_test shape: (320,)\n"
          ]
        }
      ],
      "source": [
        "# Split the preprocessed data into a training and testing dataset\n",
        "# Assign the function a random_state equal to 1\n",
        "from sklearn.model_selection import train_test_split\n",
        "\n",
        "# Split the data into training and testing datasets\n",
        "# random_state=1 ensures reproducibility\n",
        "X_train, X_test, y_train, y_test = train_test_split(X, y, test_size=0.2, random_state=1)\n",
        "\n",
        "# Display the shape of the resulting datasets\n",
        "print(\"X_train shape:\", X_train.shape)\n",
        "print(\"X_test shape:\", X_test.shape)\n",
        "print(\"y_train shape:\", y_train.shape)\n",
        "print(\"y_test shape:\", y_test.shape)\n",
        "\n"
      ]
    },
    {
      "cell_type": "markdown",
      "metadata": {
        "id": "G9i6DHY06q6z"
      },
      "source": [
        "### Step 4: Use scikit-learn's `StandardScaler` to scale the features data."
      ]
    },
    {
      "cell_type": "code",
      "execution_count": 8,
      "metadata": {
        "id": "BzD3z20m6q6z"
      },
      "outputs": [
        {
          "name": "stdout",
          "output_type": "stream",
          "text": [
            "[[-0.73307913  0.6648928  -1.25704443 -0.3204585  -0.45362151 -0.74240736\n",
            "  -0.6455073   0.24000129  0.98846046  0.0630946  -0.87223395]\n",
            " [ 1.06774091 -0.62346154  1.52314768  0.60886277 -0.36954631 -1.12518952\n",
            "  -1.11200285  0.18789883 -1.7535127  -0.17390392 -0.77978452]\n",
            " [-1.74604041 -1.07158479 -1.35814232 -0.53491726 -0.78992229  1.07580793\n",
            "   0.53628144 -2.67773653  2.32756363  0.77409018  3.28799021]\n",
            " [-0.62052788  0.49684658 -1.05484864 -0.0345135  -0.20139592  0.11885252\n",
            "   1.18937522  0.37546769  1.24352773 -0.76640023 -0.6873351 ]\n",
            " [-0.50797663  0.60887739 -1.00429969 -0.53491726  0.26101766 -0.74240736\n",
            "  -0.7077067  -0.33312578 -0.09557544 -0.47015208 -0.77978452]]\n"
          ]
        }
      ],
      "source": [
        "# Create a StandardScaler instance\n",
        "scaler = StandardScaler()\n",
        "\n",
        "# Fit the scaler to the features training dataset\n",
        "X_train_scaled = scaler.fit_transform(X_train)\n",
        "\n",
        "# Transform the test dataset using the same scaler\n",
        "X_test_scaled = scaler.transform(X_test)\n",
        "\n",
        "# Display the first 5 rows of the scaled training data to confirm\n",
        "print(X_train_scaled[:5])\n",
        "\n",
        "\n",
        "\n"
      ]
    },
    {
      "cell_type": "markdown",
      "metadata": {
        "id": "CZzVDjba6q6z"
      },
      "source": [
        "---\n",
        "\n",
        "## Compile and Evaluate a Model Using a Neural Network"
      ]
    },
    {
      "cell_type": "markdown",
      "metadata": {
        "id": "m-pSux4Q6q60"
      },
      "source": [
        "### Step 1: Create a deep neural network by assigning the number of input features, the number of layers, and the number of neurons on each layer using Tensorflow’s Keras.\n",
        "\n",
        "> **Hint** You can start with a two-layer deep neural network model that uses the `relu` activation function for both layers.\n"
      ]
    },
    {
      "cell_type": "code",
      "execution_count": 9,
      "metadata": {
        "colab": {
          "base_uri": "https://localhost:8080/"
        },
        "id": "t5C94FCd6q60",
        "outputId": "cbf05783-2f56-4745-cd33-649a6152e510"
      },
      "outputs": [
        {
          "name": "stdout",
          "output_type": "stream",
          "text": [
            "Number of features (inputs): 11\n"
          ]
        }
      ],
      "source": [
        "# Define the the number of inputs (features) to the model\n",
        "number_of_features = X_train_scaled.shape[1]\n",
        "\n",
        "# Review the number of features\n",
        "print(\"Number of features (inputs):\", number_of_features)\n",
        "\n",
        "\n"
      ]
    },
    {
      "cell_type": "code",
      "execution_count": 10,
      "metadata": {
        "id": "c_KXDLkF6q60"
      },
      "outputs": [],
      "source": [
        "\n",
        "# Define the number of input features to the model\n",
        "number_of_features = X_train_scaled.shape[1]\n",
        "\n",
        "# Define the number of hidden nodes for the first hidden layer\n",
        "hidden_nodes_layer1 = 16  # You can adjust this number based on your needs\n",
        "\n",
        "# Define the number of hidden nodes for the second hidden layer\n",
        "hidden_nodes_layer2 = 8  # You can adjust this number based on your needs\n",
        "\n",
        "# Define the number of neurons in the output layer\n",
        "output_neurons = 1  # For binary classification, this is 1 (use sigmoid); for multi-class, change accordingly\n",
        "\n"
      ]
    },
    {
      "cell_type": "code",
      "execution_count": 11,
      "metadata": {
        "id": "63UdFncw6q60"
      },
      "outputs": [
        {
          "name": "stderr",
          "output_type": "stream",
          "text": [
            "2024-09-17 17:31:23.986695: I tensorflow/core/platform/cpu_feature_guard.cc:193] This TensorFlow binary is optimized with oneAPI Deep Neural Network Library (oneDNN) to use the following CPU instructions in performance-critical operations:  SSE4.1 SSE4.2\n",
            "To enable them in other operations, rebuild TensorFlow with the appropriate compiler flags.\n"
          ]
        }
      ],
      "source": [
        "\n",
        "# Create the Sequential model instance\n",
        "model = Sequential()\n",
        "\n",
        "# Define the number of input features, hidden nodes, and output neurons\n",
        "number_of_features = X_train_scaled.shape[1]\n",
        "hidden_nodes_layer1 = 16  # Number of neurons in the first hidden layer\n",
        "hidden_nodes_layer2 = 8   # Number of neurons in the second hidden layer\n",
        "output_neurons = 1        # Output neuron for binary classification (sigmoid activation)\n",
        "\n",
        "# Add the first hidden layer with relu activation function\n",
        "model.add(Dense(units=hidden_nodes_layer1, activation='relu', input_dim=number_of_features))\n",
        "\n",
        "# Add the second hidden layer with relu activation function\n",
        "model.add(Dense(units=hidden_nodes_layer2, activation='relu'))\n",
        "\n",
        "# Add the output layer specifying the number of neurons and activation function\n",
        "model.add(Dense(units=output_neurons, activation='sigmoid'))  # Sigmoid for binary classification\n",
        "\n",
        "\n",
        "\n",
        "\n",
        "\n"
      ]
    },
    {
      "cell_type": "code",
      "execution_count": 12,
      "metadata": {
        "colab": {
          "base_uri": "https://localhost:8080/"
        },
        "id": "-Beoh4f_6q61",
        "outputId": "2e50f810-086b-4d89-bf7d-98afbe0d649d"
      },
      "outputs": [
        {
          "name": "stdout",
          "output_type": "stream",
          "text": [
            "Model: \"sequential\"\n",
            "_________________________________________________________________\n",
            " Layer (type)                Output Shape              Param #   \n",
            "=================================================================\n",
            " dense (Dense)               (None, 16)                192       \n",
            "                                                                 \n",
            " dense_1 (Dense)             (None, 8)                 136       \n",
            "                                                                 \n",
            " dense_2 (Dense)             (None, 1)                 9         \n",
            "                                                                 \n",
            "=================================================================\n",
            "Total params: 337\n",
            "Trainable params: 337\n",
            "Non-trainable params: 0\n",
            "_________________________________________________________________\n"
          ]
        }
      ],
      "source": [
        "# Display the Sequential model summary\n",
        "model.summary()"
      ]
    },
    {
      "cell_type": "markdown",
      "metadata": {
        "id": "nRqWGIRo6q61"
      },
      "source": [
        "### Step 2: Compile and fit the model using the `binary_crossentropy` loss function, the `adam` optimizer, and the `accuracy` evaluation metric.\n"
      ]
    },
    {
      "cell_type": "code",
      "execution_count": 13,
      "metadata": {
        "id": "E-hZaeSn6q61"
      },
      "outputs": [],
      "source": [
        "# Compile the Sequential model\n",
        "\n",
        "model.compile(loss='binary_crossentropy', optimizer='adam', metrics=['accuracy'])\n",
        "\n"
      ]
    },
    {
      "cell_type": "code",
      "execution_count": 14,
      "metadata": {
        "colab": {
          "base_uri": "https://localhost:8080/"
        },
        "id": "x25e8Idc6q61",
        "outputId": "e95946ba-23da-47a3-a1c1-5e9a2a484a47"
      },
      "outputs": [
        {
          "name": "stdout",
          "output_type": "stream",
          "text": [
            "Epoch 1/50\n",
            "32/32 [==============================] - 0s 3ms/step - loss: 0.6817 - accuracy: 0.5728 - val_loss: 0.6686 - val_accuracy: 0.5977\n",
            "Epoch 2/50\n",
            "32/32 [==============================] - 0s 956us/step - loss: 0.6528 - accuracy: 0.6413 - val_loss: 0.6417 - val_accuracy: 0.6680\n",
            "Epoch 3/50\n",
            "32/32 [==============================] - 0s 937us/step - loss: 0.6297 - accuracy: 0.6784 - val_loss: 0.6232 - val_accuracy: 0.6797\n",
            "Epoch 4/50\n",
            "32/32 [==============================] - 0s 873us/step - loss: 0.6091 - accuracy: 0.6960 - val_loss: 0.6059 - val_accuracy: 0.6914\n",
            "Epoch 5/50\n",
            "32/32 [==============================] - 0s 872us/step - loss: 0.5902 - accuracy: 0.7165 - val_loss: 0.5904 - val_accuracy: 0.7031\n",
            "Epoch 6/50\n",
            "32/32 [==============================] - 0s 874us/step - loss: 0.5732 - accuracy: 0.7195 - val_loss: 0.5775 - val_accuracy: 0.7031\n",
            "Epoch 7/50\n",
            "32/32 [==============================] - 0s 882us/step - loss: 0.5587 - accuracy: 0.7429 - val_loss: 0.5673 - val_accuracy: 0.7148\n",
            "Epoch 8/50\n",
            "32/32 [==============================] - 0s 866us/step - loss: 0.5482 - accuracy: 0.7439 - val_loss: 0.5593 - val_accuracy: 0.7109\n",
            "Epoch 9/50\n",
            "32/32 [==============================] - 0s 874us/step - loss: 0.5392 - accuracy: 0.7429 - val_loss: 0.5534 - val_accuracy: 0.7070\n",
            "Epoch 10/50\n",
            "32/32 [==============================] - 0s 872us/step - loss: 0.5329 - accuracy: 0.7449 - val_loss: 0.5501 - val_accuracy: 0.7148\n",
            "Epoch 11/50\n",
            "32/32 [==============================] - 0s 864us/step - loss: 0.5269 - accuracy: 0.7478 - val_loss: 0.5469 - val_accuracy: 0.7188\n",
            "Epoch 12/50\n",
            "32/32 [==============================] - 0s 865us/step - loss: 0.5224 - accuracy: 0.7517 - val_loss: 0.5441 - val_accuracy: 0.7188\n",
            "Epoch 13/50\n",
            "32/32 [==============================] - 0s 853us/step - loss: 0.5185 - accuracy: 0.7498 - val_loss: 0.5420 - val_accuracy: 0.7227\n",
            "Epoch 14/50\n",
            "32/32 [==============================] - 0s 865us/step - loss: 0.5157 - accuracy: 0.7537 - val_loss: 0.5404 - val_accuracy: 0.7266\n",
            "Epoch 15/50\n",
            "32/32 [==============================] - 0s 844us/step - loss: 0.5123 - accuracy: 0.7517 - val_loss: 0.5376 - val_accuracy: 0.7305\n",
            "Epoch 16/50\n",
            "32/32 [==============================] - 0s 852us/step - loss: 0.5086 - accuracy: 0.7517 - val_loss: 0.5369 - val_accuracy: 0.7266\n",
            "Epoch 17/50\n",
            "32/32 [==============================] - 0s 845us/step - loss: 0.5058 - accuracy: 0.7527 - val_loss: 0.5346 - val_accuracy: 0.7305\n",
            "Epoch 18/50\n",
            "32/32 [==============================] - 0s 852us/step - loss: 0.5028 - accuracy: 0.7576 - val_loss: 0.5350 - val_accuracy: 0.7344\n",
            "Epoch 19/50\n",
            "32/32 [==============================] - 0s 851us/step - loss: 0.5004 - accuracy: 0.7625 - val_loss: 0.5326 - val_accuracy: 0.7344\n",
            "Epoch 20/50\n",
            "32/32 [==============================] - 0s 848us/step - loss: 0.4981 - accuracy: 0.7654 - val_loss: 0.5313 - val_accuracy: 0.7344\n",
            "Epoch 21/50\n",
            "32/32 [==============================] - 0s 877us/step - loss: 0.4965 - accuracy: 0.7664 - val_loss: 0.5306 - val_accuracy: 0.7344\n",
            "Epoch 22/50\n",
            "32/32 [==============================] - 0s 865us/step - loss: 0.4932 - accuracy: 0.7683 - val_loss: 0.5295 - val_accuracy: 0.7422\n",
            "Epoch 23/50\n",
            "32/32 [==============================] - 0s 851us/step - loss: 0.4911 - accuracy: 0.7683 - val_loss: 0.5279 - val_accuracy: 0.7344\n",
            "Epoch 24/50\n",
            "32/32 [==============================] - 0s 866us/step - loss: 0.4889 - accuracy: 0.7664 - val_loss: 0.5258 - val_accuracy: 0.7344\n",
            "Epoch 25/50\n",
            "32/32 [==============================] - 0s 2ms/step - loss: 0.4860 - accuracy: 0.7703 - val_loss: 0.5277 - val_accuracy: 0.7344\n",
            "Epoch 26/50\n",
            "32/32 [==============================] - 0s 949us/step - loss: 0.4851 - accuracy: 0.7722 - val_loss: 0.5255 - val_accuracy: 0.7344\n",
            "Epoch 27/50\n",
            "32/32 [==============================] - 0s 931us/step - loss: 0.4820 - accuracy: 0.7674 - val_loss: 0.5253 - val_accuracy: 0.7305\n",
            "Epoch 28/50\n",
            "32/32 [==============================] - 0s 937us/step - loss: 0.4799 - accuracy: 0.7722 - val_loss: 0.5246 - val_accuracy: 0.7344\n",
            "Epoch 29/50\n",
            "32/32 [==============================] - 0s 942us/step - loss: 0.4778 - accuracy: 0.7742 - val_loss: 0.5235 - val_accuracy: 0.7305\n",
            "Epoch 30/50\n",
            "32/32 [==============================] - 0s 898us/step - loss: 0.4760 - accuracy: 0.7752 - val_loss: 0.5220 - val_accuracy: 0.7305\n",
            "Epoch 31/50\n",
            "32/32 [==============================] - 0s 900us/step - loss: 0.4754 - accuracy: 0.7781 - val_loss: 0.5212 - val_accuracy: 0.7344\n",
            "Epoch 32/50\n",
            "32/32 [==============================] - 0s 902us/step - loss: 0.4724 - accuracy: 0.7810 - val_loss: 0.5210 - val_accuracy: 0.7344\n",
            "Epoch 33/50\n",
            "32/32 [==============================] - 0s 866us/step - loss: 0.4704 - accuracy: 0.7810 - val_loss: 0.5224 - val_accuracy: 0.7344\n",
            "Epoch 34/50\n",
            "32/32 [==============================] - 0s 907us/step - loss: 0.4690 - accuracy: 0.7781 - val_loss: 0.5188 - val_accuracy: 0.7344\n",
            "Epoch 35/50\n",
            "32/32 [==============================] - 0s 882us/step - loss: 0.4663 - accuracy: 0.7791 - val_loss: 0.5210 - val_accuracy: 0.7266\n",
            "Epoch 36/50\n",
            "32/32 [==============================] - 0s 892us/step - loss: 0.4654 - accuracy: 0.7820 - val_loss: 0.5197 - val_accuracy: 0.7344\n",
            "Epoch 37/50\n",
            "32/32 [==============================] - 0s 876us/step - loss: 0.4637 - accuracy: 0.7869 - val_loss: 0.5194 - val_accuracy: 0.7344\n",
            "Epoch 38/50\n",
            "32/32 [==============================] - 0s 886us/step - loss: 0.4619 - accuracy: 0.7801 - val_loss: 0.5183 - val_accuracy: 0.7422\n",
            "Epoch 39/50\n",
            "32/32 [==============================] - 0s 885us/step - loss: 0.4609 - accuracy: 0.7830 - val_loss: 0.5194 - val_accuracy: 0.7383\n",
            "Epoch 40/50\n",
            "32/32 [==============================] - 0s 885us/step - loss: 0.4590 - accuracy: 0.7830 - val_loss: 0.5195 - val_accuracy: 0.7422\n",
            "Epoch 41/50\n",
            "32/32 [==============================] - 0s 867us/step - loss: 0.4581 - accuracy: 0.7820 - val_loss: 0.5195 - val_accuracy: 0.7383\n",
            "Epoch 42/50\n",
            "32/32 [==============================] - 0s 848us/step - loss: 0.4578 - accuracy: 0.7830 - val_loss: 0.5196 - val_accuracy: 0.7344\n",
            "Epoch 43/50\n",
            "32/32 [==============================] - 0s 839us/step - loss: 0.4558 - accuracy: 0.7859 - val_loss: 0.5199 - val_accuracy: 0.7383\n",
            "Epoch 44/50\n",
            "32/32 [==============================] - 0s 853us/step - loss: 0.4552 - accuracy: 0.7869 - val_loss: 0.5206 - val_accuracy: 0.7461\n",
            "Epoch 45/50\n",
            "32/32 [==============================] - 0s 847us/step - loss: 0.4543 - accuracy: 0.7830 - val_loss: 0.5209 - val_accuracy: 0.7500\n",
            "Epoch 46/50\n",
            "32/32 [==============================] - 0s 839us/step - loss: 0.4523 - accuracy: 0.7918 - val_loss: 0.5206 - val_accuracy: 0.7461\n",
            "Epoch 47/50\n",
            "32/32 [==============================] - 0s 864us/step - loss: 0.4525 - accuracy: 0.7889 - val_loss: 0.5210 - val_accuracy: 0.7500\n",
            "Epoch 48/50\n",
            "32/32 [==============================] - 0s 846us/step - loss: 0.4503 - accuracy: 0.7937 - val_loss: 0.5210 - val_accuracy: 0.7500\n",
            "Epoch 49/50\n",
            "32/32 [==============================] - 0s 854us/step - loss: 0.4493 - accuracy: 0.7947 - val_loss: 0.5208 - val_accuracy: 0.7500\n",
            "Epoch 50/50\n",
            "32/32 [==============================] - 0s 849us/step - loss: 0.4483 - accuracy: 0.7967 - val_loss: 0.5212 - val_accuracy: 0.7500\n",
            "Model training completed.\n"
          ]
        }
      ],
      "source": [
        "# Fit the model using 50 epochs and the training data\n",
        "\n",
        "history = model.fit(X_train_scaled, y_train, epochs=50, batch_size=32, validation_split=0.2)\n",
        "\n",
        "# Review the training history\n",
        "print(\"Model training completed.\")"
      ]
    },
    {
      "cell_type": "markdown",
      "metadata": {
        "id": "RfHMPZVI6q61"
      },
      "source": [
        "### Step 3: Evaluate the model using the test data to determine the model’s loss and accuracy.\n"
      ]
    },
    {
      "cell_type": "code",
      "execution_count": 15,
      "metadata": {
        "colab": {
          "base_uri": "https://localhost:8080/"
        },
        "id": "5hfVADKo6q61",
        "outputId": "7df473ad-3301-4b49-e5c3-16e1687cc1cf"
      },
      "outputs": [
        {
          "name": "stdout",
          "output_type": "stream",
          "text": [
            "10/10 [==============================] - 0s 472us/step - loss: 0.5281 - accuracy: 0.7437\n",
            "Model Loss: 0.5280638337135315\n",
            "Model Accuracy: 0.7437499761581421\n"
          ]
        }
      ],
      "source": [
        "# Evaluate the model loss and accuracy metrics using the evaluate method and the test data\n",
        "# Evaluate the model loss and accuracy using the test data\n",
        "loss, accuracy = model.evaluate(X_test_scaled, y_test)\n",
        "\n",
        "# Display the model loss and accuracy results\n",
        "# Display the model loss and accuracy\n",
        "print(f\"Model Loss: {loss}\")\n",
        "print(f\"Model Accuracy: {accuracy}\")"
      ]
    },
    {
      "cell_type": "markdown",
      "metadata": {
        "id": "jpAv0rXA6q61"
      },
      "source": [
        "### Step 4: Save and export your model to a keras file, and name the file `student_loans.keras`.\n"
      ]
    },
    {
      "cell_type": "code",
      "execution_count": 16,
      "metadata": {
        "id": "q0MetN0W6q61"
      },
      "outputs": [
        {
          "name": "stdout",
          "output_type": "stream",
          "text": [
            "Model saved to student_loans.keras\n"
          ]
        }
      ],
      "source": [
        "# Set the model's file path\n",
        "# Set the model's file path\n",
        "model_filepath = \"student_loans.keras\"\n",
        "\n",
        "# Export your model to a .keras file\n",
        "model.save(model_filepath)\n",
        "\n",
        "# Confirm the model was saved\n",
        "print(f\"Model saved to {model_filepath}\")\n",
        "\n"
      ]
    },
    {
      "cell_type": "markdown",
      "metadata": {
        "id": "R1opCDdN6q61"
      },
      "source": [
        "---\n",
        "## Predict Loan Repayment Success by Using your Neural Network Model"
      ]
    },
    {
      "cell_type": "markdown",
      "metadata": {
        "id": "TfIfpeiy6q61"
      },
      "source": [
        "### Step 1: Reload your saved model."
      ]
    },
    {
      "cell_type": "code",
      "execution_count": 17,
      "metadata": {
        "id": "OCET2mvW6q61"
      },
      "outputs": [
        {
          "name": "stdout",
          "output_type": "stream",
          "text": [
            "Model: \"sequential\"\n",
            "_________________________________________________________________\n",
            " Layer (type)                Output Shape              Param #   \n",
            "=================================================================\n",
            " dense (Dense)               (None, 16)                192       \n",
            "                                                                 \n",
            " dense_1 (Dense)             (None, 8)                 136       \n",
            "                                                                 \n",
            " dense_2 (Dense)             (None, 1)                 9         \n",
            "                                                                 \n",
            "=================================================================\n",
            "Total params: 337\n",
            "Trainable params: 337\n",
            "Non-trainable params: 0\n",
            "_________________________________________________________________\n"
          ]
        }
      ],
      "source": [
        "# Set the model's file path\n",
        "\n",
        "model_filepath = \"student_loans.keras\"\n",
        "\n",
        "# Load the model to a new object\n",
        "loaded_model = tf.keras.models.load_model(model_filepath)\n",
        "\n",
        "# Confirm the model is loaded successfully\n",
        "loaded_model.summary()\n",
        "\n",
        "# Load the model to a new object\n"
      ]
    },
    {
      "cell_type": "markdown",
      "metadata": {
        "id": "rTPKooGw6q61"
      },
      "source": [
        "### Step 2: Make predictions on the testing data and save the predictions to a DataFrame."
      ]
    },
    {
      "cell_type": "code",
      "execution_count": 18,
      "metadata": {
        "colab": {
          "base_uri": "https://localhost:8080/"
        },
        "id": "Vet7qjgx6q62",
        "outputId": "0925af42-7e12-4978-8396-2a2c1580e1eb"
      },
      "outputs": [
        {
          "name": "stdout",
          "output_type": "stream",
          "text": [
            "10/10 [==============================] - 0s 418us/step\n",
            "      True Values  Predicted Values\n",
            "75              0                 0\n",
            "1283            1                 0\n",
            "408             1                 1\n",
            "1281            1                 1\n",
            "1118            1                 1\n"
          ]
        }
      ],
      "source": [
        "# Make predictions with the test data\n",
        "\n",
        "predictions = model.predict(X_test_scaled)\n",
        "\n",
        "# Convert predictions from probabilities to binary values (0 or 1) using a threshold of 0.5\n",
        "predicted_classes = (predictions > 0.5).astype(int)\n",
        "\n",
        "# Save the predictions to a DataFrame\n",
        "predictions_df = pd.DataFrame({\n",
        "    \"True Values\": y_test,\n",
        "    \"Predicted Values\": predicted_classes.flatten()\n",
        "})\n",
        "\n",
        "# Display the first few rows of the predictions DataFrame\n",
        "print(predictions_df.head())\n",
        "\n",
        "# Display a sample of the predictions\n"
      ]
    },
    {
      "cell_type": "code",
      "execution_count": 19,
      "metadata": {
        "colab": {
          "base_uri": "https://localhost:8080/",
          "height": 424
        },
        "id": "87o8exFPhjfl",
        "outputId": "da5339c5-cea7-43e4-ec22-e168ea16dfa2"
      },
      "outputs": [
        {
          "name": "stdout",
          "output_type": "stream",
          "text": [
            "10/10 [==============================] - 0s 406us/step\n",
            "      True Values  Predicted Values\n",
            "75              0                 0\n",
            "1283            1                 0\n",
            "408             1                 1\n",
            "1281            1                 1\n",
            "1118            1                 1\n"
          ]
        }
      ],
      "source": [
        "# Save the predictions to a DataFrame and round the predictions to binary results\n",
        "# Make predictions on the test data\n",
        "predictions = loaded_model.predict(X_test_scaled)\n",
        "\n",
        "# Round the predictions to binary results (0 or 1)\n",
        "binary_predictions = (predictions > 0.5).astype(int)\n",
        "\n",
        "# Save the true values and predicted values to a DataFrame\n",
        "predictions_df = pd.DataFrame({\n",
        "    \"True Values\": y_test,\n",
        "    \"Predicted Values\": binary_predictions.flatten()\n",
        "})\n",
        "\n",
        "# Display the first few rows of the predictions DataFrame\n",
        "print(predictions_df.head())"
      ]
    },
    {
      "cell_type": "markdown",
      "metadata": {},
      "source": []
    },
    {
      "cell_type": "markdown",
      "metadata": {
        "id": "oxxLwycg6q62"
      },
      "source": [
        "### Step 4: Display a classification report with the y test data and predictions"
      ]
    },
    {
      "cell_type": "code",
      "execution_count": 20,
      "metadata": {
        "colab": {
          "base_uri": "https://localhost:8080/"
        },
        "id": "UTxYZibW6q67",
        "outputId": "f341b396-9b4c-478c-dba8-f6d904ba10e3"
      },
      "outputs": [
        {
          "name": "stdout",
          "output_type": "stream",
          "text": [
            "Classification Report:\n",
            "               precision    recall  f1-score   support\n",
            "\n",
            "           0       0.72      0.76      0.74       154\n",
            "           1       0.77      0.73      0.75       166\n",
            "\n",
            "    accuracy                           0.74       320\n",
            "   macro avg       0.74      0.74      0.74       320\n",
            "weighted avg       0.74      0.74      0.74       320\n",
            "\n"
          ]
        }
      ],
      "source": [
        "# Print the classification report with the y test data and predictions\n",
        "# Generate the classification report\n",
        "report = classification_report(y_test, binary_predictions)\n",
        "\n",
        "# Print the classification report\n",
        "print(\"Classification Report:\\n\", report)"
      ]
    },
    {
      "cell_type": "markdown",
      "metadata": {
        "id": "8Aaof1tBtcp6"
      },
      "source": [
        "---\n",
        "## Discuss creating a recommendation system for student loans"
      ]
    },
    {
      "cell_type": "markdown",
      "metadata": {
        "id": "_CC8cNpNtcp6"
      },
      "source": [
        "Briefly answer the following questions in the space provided:\n",
        "\n",
        "1. Describe the data that you would need to collect to build a recommendation system to recommend student loan options for students. Explain why this data would be relevant and appropriate.\n",
        "\n",
        "2. Based on the data you chose to use in this recommendation system, would your model be using collaborative filtering, content-based filtering, or context-based filtering? Justify why the data you selected would be suitable for your choice of filtering method.\n",
        "\n",
        "3. Describe two real-world challenges that you would take into consideration while building a recommendation system for student loans. Explain why these challenges would be of concern for a student loan recommendation system."
      ]
    },
    {
      "cell_type": "markdown",
      "metadata": {
        "id": "5KqIT8kYtcp6"
      },
      "source": [
        "**1. Describe the data that you would need to collect to build a recommendation system to recommend student loan options for students. Explain why this data would be relevant and appropriate.**\n",
        "\n",
        "\n",
        "**2. Based on the data you chose to use in this recommendation system, would your model be using collaborative filtering, content-based filtering, or context-based filtering? Justify why the data you selected would be suitable for your choice of filtering method.**\n",
        "\n",
        "\n",
        "**3. Describe two real-world challenges that you would take into consideration while building a recommendation system for student loans. Explain why these challenges would be of concern for a student loan recommendation system.**\n",
        "\n"
      ]
    }
  ],
  "metadata": {
    "colab": {
      "provenance": []
    },
    "kernelspec": {
      "display_name": "Python 3 (ipykernel)",
      "language": "python",
      "name": "python3"
    },
    "language_info": {
      "codemirror_mode": {
        "name": "ipython",
        "version": 3
      },
      "file_extension": ".py",
      "mimetype": "text/x-python",
      "name": "python",
      "nbconvert_exporter": "python",
      "pygments_lexer": "ipython3",
      "version": "3.10.8"
    }
  },
  "nbformat": 4,
  "nbformat_minor": 0
}
